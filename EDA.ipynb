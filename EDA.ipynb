{
 "cells": [
  {
   "cell_type": "markdown",
   "metadata": {},
   "source": [
    "ANALISIS EXPLORATORIO DE DATOS (E.D.A)"
   ]
  },
  {
   "cell_type": "code",
   "execution_count": 14,
   "metadata": {},
   "outputs": [],
   "source": [
    "# importo librerias\n",
    "\n",
    "import numpy as np\n",
    "import pandas as pd\n",
    "import matplotlib.pyplot as plt\n",
    "import seaborn as sns\n",
    "import pandas_profiling "
   ]
  },
  {
   "cell_type": "code",
   "execution_count": 15,
   "metadata": {},
   "outputs": [],
   "source": [
    "# importamos nuestro csv\n",
    "\n",
    "plataformas = pd.read_csv(\"Df_completo.csv\")"
   ]
  },
  {
   "cell_type": "code",
   "execution_count": 16,
   "metadata": {},
   "outputs": [
    {
     "data": {
      "text/html": [
       "<div>\n",
       "<style scoped>\n",
       "    .dataframe tbody tr th:only-of-type {\n",
       "        vertical-align: middle;\n",
       "    }\n",
       "\n",
       "    .dataframe tbody tr th {\n",
       "        vertical-align: top;\n",
       "    }\n",
       "\n",
       "    .dataframe thead th {\n",
       "        text-align: right;\n",
       "    }\n",
       "</style>\n",
       "<table border=\"1\" class=\"dataframe\">\n",
       "  <thead>\n",
       "    <tr style=\"text-align: right;\">\n",
       "      <th></th>\n",
       "      <th>Unnamed: 0</th>\n",
       "      <th>Id</th>\n",
       "      <th>show_id</th>\n",
       "      <th>type</th>\n",
       "      <th>title</th>\n",
       "      <th>director</th>\n",
       "      <th>cast</th>\n",
       "      <th>country</th>\n",
       "      <th>date_added</th>\n",
       "      <th>release_year</th>\n",
       "      <th>rating</th>\n",
       "      <th>listed_in</th>\n",
       "      <th>description</th>\n",
       "      <th>platform</th>\n",
       "      <th>duration_int</th>\n",
       "      <th>duration_type</th>\n",
       "      <th>score</th>\n",
       "    </tr>\n",
       "  </thead>\n",
       "  <tbody>\n",
       "    <tr>\n",
       "      <th>0</th>\n",
       "      <td>0</td>\n",
       "      <td>as1</td>\n",
       "      <td>s1</td>\n",
       "      <td>movie</td>\n",
       "      <td>the grand seduction</td>\n",
       "      <td>don mckellar</td>\n",
       "      <td>brendan gleeson, taylor kitsch, gordon pinsent</td>\n",
       "      <td>canada</td>\n",
       "      <td>2021-03-30</td>\n",
       "      <td>2014</td>\n",
       "      <td>g</td>\n",
       "      <td>comedy, drama</td>\n",
       "      <td>a small fishing village must procure a local d...</td>\n",
       "      <td>amazon</td>\n",
       "      <td>113.0</td>\n",
       "      <td>min</td>\n",
       "      <td>3.467131</td>\n",
       "    </tr>\n",
       "    <tr>\n",
       "      <th>1</th>\n",
       "      <td>1</td>\n",
       "      <td>as2</td>\n",
       "      <td>s2</td>\n",
       "      <td>movie</td>\n",
       "      <td>take care good night</td>\n",
       "      <td>girish joshi</td>\n",
       "      <td>mahesh manjrekar, abhay mahajan, sachin khedekar</td>\n",
       "      <td>india</td>\n",
       "      <td>2021-03-30</td>\n",
       "      <td>2018</td>\n",
       "      <td>13+</td>\n",
       "      <td>drama, international</td>\n",
       "      <td>a metro family decides to fight a cyber crimin...</td>\n",
       "      <td>amazon</td>\n",
       "      <td>110.0</td>\n",
       "      <td>min</td>\n",
       "      <td>3.548682</td>\n",
       "    </tr>\n",
       "  </tbody>\n",
       "</table>\n",
       "</div>"
      ],
      "text/plain": [
       "   Unnamed: 0   Id show_id   type                 title      director  \\\n",
       "0           0  as1      s1  movie   the grand seduction  don mckellar   \n",
       "1           1  as2      s2  movie  take care good night  girish joshi   \n",
       "\n",
       "                                               cast country  date_added  \\\n",
       "0    brendan gleeson, taylor kitsch, gordon pinsent  canada  2021-03-30   \n",
       "1  mahesh manjrekar, abhay mahajan, sachin khedekar   india  2021-03-30   \n",
       "\n",
       "   release_year rating             listed_in  \\\n",
       "0          2014      g         comedy, drama   \n",
       "1          2018    13+  drama, international   \n",
       "\n",
       "                                         description platform  duration_int  \\\n",
       "0  a small fishing village must procure a local d...   amazon         113.0   \n",
       "1  a metro family decides to fight a cyber crimin...   amazon         110.0   \n",
       "\n",
       "  duration_type     score  \n",
       "0           min  3.467131  \n",
       "1           min  3.548682  "
      ]
     },
     "execution_count": 16,
     "metadata": {},
     "output_type": "execute_result"
    }
   ],
   "source": [
    "#Visualizo ambos datasets\n",
    "plataformas.head(2)"
   ]
  },
  {
   "cell_type": "code",
   "execution_count": 17,
   "metadata": {},
   "outputs": [],
   "source": [
    "# elimino la columna \"Unnamed:\"  ya que no se usara \n",
    "\n",
    "plataformas.drop(columns=['Unnamed: 0'], inplace=True)"
   ]
  },
  {
   "cell_type": "code",
   "execution_count": 18,
   "metadata": {},
   "outputs": [],
   "source": [
    "#Cambio el nomre de la columna 'listed_in' por 'movies_type'\n",
    "plataformas = plataformas.rename(columns={'listed_in': 'movies_type'})"
   ]
  },
  {
   "cell_type": "code",
   "execution_count": 19,
   "metadata": {},
   "outputs": [
    {
     "data": {
      "text/plain": [
       "(22998, 16)"
      ]
     },
     "execution_count": 19,
     "metadata": {},
     "output_type": "execute_result"
    }
   ],
   "source": [
    "# numero de filas y columnas\n",
    "plataformas.shape "
   ]
  },
  {
   "cell_type": "code",
   "execution_count": 20,
   "metadata": {},
   "outputs": [
    {
     "data": {
      "text/plain": [
       "22998"
      ]
     },
     "execution_count": 20,
     "metadata": {},
     "output_type": "execute_result"
    }
   ],
   "source": [
    "# usuarios unicos \n",
    "len(plataformas['Id'].unique())"
   ]
  },
  {
   "cell_type": "code",
   "execution_count": 21,
   "metadata": {},
   "outputs": [
    {
     "data": {
      "text/plain": [
       "(Empty DataFrame\n",
       " Columns: [Id, show_id, type, title, director, cast, country, date_added, release_year, rating, movies_type, description, platform, duration_int, duration_type, score]\n",
       " Index: [],\n",
       " 0)"
      ]
     },
     "execution_count": 21,
     "metadata": {},
     "output_type": "execute_result"
    }
   ],
   "source": [
    "#Veo los duplicados y los sumamos\n",
    "plataformas[plataformas.duplicated()], plataformas.duplicated().sum()"
   ]
  },
  {
   "cell_type": "code",
   "execution_count": 22,
   "metadata": {},
   "outputs": [
    {
     "data": {
      "image/png": "[encoded data removed]",
      "text/plain": [
       "<Figure size 2500x1200 with 1 Axes>"
      ]
     },
     "metadata": {},
     "output_type": "display_data"
    }
   ],
   "source": [
    "# visualizamos los valores nulos\n",
    "\n",
    "plt.figure(figsize= (25,12))\n",
    "sns.heatmap(plataformas.isnull(), cbar=False)\n",
    "plt.show()"
   ]
  },
  {
   "cell_type": "code",
   "execution_count": 23,
   "metadata": {},
   "outputs": [
    {
     "data": {
      "text/plain": [
       "country          11499\n",
       "date_added        9554\n",
       "director          8259\n",
       "cast              5321\n",
       "duration_int       482\n",
       "duration_type      482\n",
       "description          4\n",
       "Id                   0\n",
       "show_id              0\n",
       "type                 0\n",
       "title                0\n",
       "release_year         0\n",
       "rating               0\n",
       "movies_type          0\n",
       "platform             0\n",
       "score                0\n",
       "dtype: int64"
      ]
     },
     "execution_count": 23,
     "metadata": {},
     "output_type": "execute_result"
    }
   ],
   "source": [
    "#Vamos a ver la cantidad de nulos por columna asi los cuantificamos\n",
    "plataformas.isnull().sum().sort_values(ascending=False)"
   ]
  },
  {
   "cell_type": "code",
   "execution_count": 24,
   "metadata": {},
   "outputs": [
    {
     "name": "stderr",
     "output_type": "stream",
     "text": [
      "Summarize dataset:  74%|███████▍  | 17/23 [00:04<00:00,  8.86it/s, Calculate auto correlation]    C:\\Users\\alekz\\AppData\\Local\\Packages\\PythonSoftwareFoundation.Python.3.10_qbz5n2kfra8p0\\LocalCache\\local-packages\\Python310\\site-packages\\multimethod\\__init__.py:315: FutureWarning: In a future version, `df.iloc[:, i] = newvals` will attempt to set the values inplace instead of always setting a new array. To retain the old behavior, use either `df[df.columns[i]] = newvals` or, if columns are non-unique, `df.isetitem(i, newvals)`\n",
      "  return func(*args, **kwargs)\n",
      "Summarize dataset: 100%|██████████| 35/35 [00:07<00:00,  4.85it/s, Completed]                         \n",
      "Generate report structure: 100%|██████████| 1/1 [00:03<00:00,  3.64s/it]\n",
      "Render HTML: 100%|██████████| 1/1 [00:01<00:00,  1.20s/it]\n",
      "Export report to file: 100%|██████████| 1/1 [00:00<00:00, 111.38it/s]\n"
     ]
    }
   ],
   "source": [
    "###Hacemos un profiling de los datos \n",
    "report = plataformas.profile_report(title='Pandas profiling report ')\n",
    "report.to_file(output_file=\"report.html\")"
   ]
  },
  {
   "cell_type": "markdown",
   "metadata": {},
   "source": [
    "Analisis de columnas "
   ]
  },
  {
   "cell_type": "code",
   "execution_count": 25,
   "metadata": {},
   "outputs": [
    {
     "name": "stdout",
     "output_type": "stream",
     "text": [
      "Porcentaje de valores faltantes de la variable country: 50.0\n",
      "Porcentaje de valores faltantes de la variable date_added: 41.5427428472041\n",
      "Porcentaje de valores faltantes de la variable director: 35.91181841899296\n",
      "Porcentaje de valores faltantes de la variable cast: 23.1367945038699\n",
      "Porcentaje de valores faltantes de la variable duration_int: 2.0958344203843815\n",
      "Porcentaje de valores faltantes de la variable duration_type: 2.0958344203843815\n"
     ]
    }
   ],
   "source": [
    "print('Porcentaje de valores faltantes de la variable country:', (plataformas.country.isnull().sum()/len(plataformas)) * 100)\n",
    "print('Porcentaje de valores faltantes de la variable date_added:', (plataformas.date_added.isnull().sum()/len(plataformas)) * 100)\n",
    "print('Porcentaje de valores faltantes de la variable director:', (plataformas.director.isnull().sum()/len(plataformas)) * 100)\n",
    "print('Porcentaje de valores faltantes de la variable cast:', (plataformas.cast.isnull().sum()/len(plataformas)) * 100)\n",
    "print('Porcentaje de valores faltantes de la variable duration_int:', (plataformas.duration_int.isnull().sum()/len(plataformas)) * 100)\n",
    "print('Porcentaje de valores faltantes de la variable duration_type:', (plataformas.duration_type.isnull().sum()/len(plataformas)) * 100)"
   ]
  },
  {
   "cell_type": "markdown",
   "metadata": {},
   "source": [
    "columna 1: country"
   ]
  },
  {
   "cell_type": "code",
   "execution_count": 26,
   "metadata": {},
   "outputs": [
    {
     "data": {
      "text/plain": [
       "united states                                                  4997\n",
       "india                                                          1203\n",
       "united kingdom                                                  583\n",
       "japan                                                           515\n",
       "canada                                                          237\n",
       "                                                               ... \n",
       "lebanon, united arab emirates, france, switzerland, germany       1\n",
       "france, belgium, italy                                            1\n",
       "lebanon, united states, united arab emirates                      1\n",
       "lebanon, france                                                   1\n",
       "united arab emirates, jordan                                      1\n",
       "Name: country, Length: 886, dtype: int64"
      ]
     },
     "execution_count": 26,
     "metadata": {},
     "output_type": "execute_result"
    }
   ],
   "source": [
    "#visualizo los valores y los cuento \n",
    "\n",
    "plataformas.country.value_counts()"
   ]
  },
  {
   "cell_type": "code",
   "execution_count": 27,
   "metadata": {},
   "outputs": [],
   "source": [
    "# elimino la columna ya que presenta gran cantidad de valores nulos \n",
    " \n",
    "plataformas.drop(columns='country', inplace=True)"
   ]
  },
  {
   "cell_type": "code",
   "execution_count": 28,
   "metadata": {},
   "outputs": [
    {
     "data": {
      "text/html": [
       "<div>\n",
       "<style scoped>\n",
       "    .dataframe tbody tr th:only-of-type {\n",
       "        vertical-align: middle;\n",
       "    }\n",
       "\n",
       "    .dataframe tbody tr th {\n",
       "        vertical-align: top;\n",
       "    }\n",
       "\n",
       "    .dataframe thead th {\n",
       "        text-align: right;\n",
       "    }\n",
       "</style>\n",
       "<table border=\"1\" class=\"dataframe\">\n",
       "  <thead>\n",
       "    <tr style=\"text-align: right;\">\n",
       "      <th></th>\n",
       "      <th>Id</th>\n",
       "      <th>show_id</th>\n",
       "      <th>type</th>\n",
       "      <th>title</th>\n",
       "      <th>director</th>\n",
       "      <th>cast</th>\n",
       "      <th>date_added</th>\n",
       "      <th>release_year</th>\n",
       "      <th>rating</th>\n",
       "      <th>movies_type</th>\n",
       "      <th>description</th>\n",
       "      <th>platform</th>\n",
       "      <th>duration_int</th>\n",
       "      <th>duration_type</th>\n",
       "      <th>score</th>\n",
       "    </tr>\n",
       "  </thead>\n",
       "  <tbody>\n",
       "    <tr>\n",
       "      <th>0</th>\n",
       "      <td>as1</td>\n",
       "      <td>s1</td>\n",
       "      <td>movie</td>\n",
       "      <td>the grand seduction</td>\n",
       "      <td>don mckellar</td>\n",
       "      <td>brendan gleeson, taylor kitsch, gordon pinsent</td>\n",
       "      <td>2021-03-30</td>\n",
       "      <td>2014</td>\n",
       "      <td>g</td>\n",
       "      <td>comedy, drama</td>\n",
       "      <td>a small fishing village must procure a local d...</td>\n",
       "      <td>amazon</td>\n",
       "      <td>113.0</td>\n",
       "      <td>min</td>\n",
       "      <td>3.467131</td>\n",
       "    </tr>\n",
       "    <tr>\n",
       "      <th>1</th>\n",
       "      <td>as2</td>\n",
       "      <td>s2</td>\n",
       "      <td>movie</td>\n",
       "      <td>take care good night</td>\n",
       "      <td>girish joshi</td>\n",
       "      <td>mahesh manjrekar, abhay mahajan, sachin khedekar</td>\n",
       "      <td>2021-03-30</td>\n",
       "      <td>2018</td>\n",
       "      <td>13+</td>\n",
       "      <td>drama, international</td>\n",
       "      <td>a metro family decides to fight a cyber crimin...</td>\n",
       "      <td>amazon</td>\n",
       "      <td>110.0</td>\n",
       "      <td>min</td>\n",
       "      <td>3.548682</td>\n",
       "    </tr>\n",
       "  </tbody>\n",
       "</table>\n",
       "</div>"
      ],
      "text/plain": [
       "    Id show_id   type                 title      director  \\\n",
       "0  as1      s1  movie   the grand seduction  don mckellar   \n",
       "1  as2      s2  movie  take care good night  girish joshi   \n",
       "\n",
       "                                               cast  date_added  release_year  \\\n",
       "0    brendan gleeson, taylor kitsch, gordon pinsent  2021-03-30          2014   \n",
       "1  mahesh manjrekar, abhay mahajan, sachin khedekar  2021-03-30          2018   \n",
       "\n",
       "  rating           movies_type  \\\n",
       "0      g         comedy, drama   \n",
       "1    13+  drama, international   \n",
       "\n",
       "                                         description platform  duration_int  \\\n",
       "0  a small fishing village must procure a local d...   amazon         113.0   \n",
       "1  a metro family decides to fight a cyber crimin...   amazon         110.0   \n",
       "\n",
       "  duration_type     score  \n",
       "0           min  3.467131  \n",
       "1           min  3.548682  "
      ]
     },
     "execution_count": 28,
     "metadata": {},
     "output_type": "execute_result"
    }
   ],
   "source": [
    "# verifico\n",
    "plataformas.head(2)"
   ]
  },
  {
   "cell_type": "markdown",
   "metadata": {},
   "source": [
    "Columna 2: date_added"
   ]
  },
  {
   "cell_type": "code",
   "execution_count": 29,
   "metadata": {},
   "outputs": [
    {
     "data": {
      "text/plain": [
       "2019-11-12    724\n",
       "2020-01-01    146\n",
       "2021-07-01    132\n",
       "2021-09-01    107\n",
       "2019-12-31    105\n",
       "             ... \n",
       "2015-12-07      1\n",
       "2017-11-30      1\n",
       "2015-11-17      1\n",
       "2017-12-05      1\n",
       "2020-01-11      1\n",
       "Name: date_added, Length: 2003, dtype: int64"
      ]
     },
     "execution_count": 29,
     "metadata": {},
     "output_type": "execute_result"
    }
   ],
   "source": [
    "#visualizo los valores y los cuento \n",
    "\n",
    "plataformas.date_added.value_counts()"
   ]
  },
  {
   "cell_type": "code",
   "execution_count": 30,
   "metadata": {},
   "outputs": [],
   "source": [
    "# elimino la columna ya que presenta gran cantidad de valores nulos y la informacion que brninda no aporta mucho en la toma de desiciones ya que es un valor poco relevante \n",
    " \n",
    "plataformas.drop(columns='date_added', inplace=True)"
   ]
  },
  {
   "cell_type": "code",
   "execution_count": 31,
   "metadata": {},
   "outputs": [
    {
     "data": {
      "text/html": [
       "<div>\n",
       "<style scoped>\n",
       "    .dataframe tbody tr th:only-of-type {\n",
       "        vertical-align: middle;\n",
       "    }\n",
       "\n",
       "    .dataframe tbody tr th {\n",
       "        vertical-align: top;\n",
       "    }\n",
       "\n",
       "    .dataframe thead th {\n",
       "        text-align: right;\n",
       "    }\n",
       "</style>\n",
       "<table border=\"1\" class=\"dataframe\">\n",
       "  <thead>\n",
       "    <tr style=\"text-align: right;\">\n",
       "      <th></th>\n",
       "      <th>Id</th>\n",
       "      <th>show_id</th>\n",
       "      <th>type</th>\n",
       "      <th>title</th>\n",
       "      <th>director</th>\n",
       "      <th>cast</th>\n",
       "      <th>release_year</th>\n",
       "      <th>rating</th>\n",
       "      <th>movies_type</th>\n",
       "      <th>description</th>\n",
       "      <th>platform</th>\n",
       "      <th>duration_int</th>\n",
       "      <th>duration_type</th>\n",
       "      <th>score</th>\n",
       "    </tr>\n",
       "  </thead>\n",
       "  <tbody>\n",
       "    <tr>\n",
       "      <th>0</th>\n",
       "      <td>as1</td>\n",
       "      <td>s1</td>\n",
       "      <td>movie</td>\n",
       "      <td>the grand seduction</td>\n",
       "      <td>don mckellar</td>\n",
       "      <td>brendan gleeson, taylor kitsch, gordon pinsent</td>\n",
       "      <td>2014</td>\n",
       "      <td>g</td>\n",
       "      <td>comedy, drama</td>\n",
       "      <td>a small fishing village must procure a local d...</td>\n",
       "      <td>amazon</td>\n",
       "      <td>113.0</td>\n",
       "      <td>min</td>\n",
       "      <td>3.467131</td>\n",
       "    </tr>\n",
       "    <tr>\n",
       "      <th>1</th>\n",
       "      <td>as2</td>\n",
       "      <td>s2</td>\n",
       "      <td>movie</td>\n",
       "      <td>take care good night</td>\n",
       "      <td>girish joshi</td>\n",
       "      <td>mahesh manjrekar, abhay mahajan, sachin khedekar</td>\n",
       "      <td>2018</td>\n",
       "      <td>13+</td>\n",
       "      <td>drama, international</td>\n",
       "      <td>a metro family decides to fight a cyber crimin...</td>\n",
       "      <td>amazon</td>\n",
       "      <td>110.0</td>\n",
       "      <td>min</td>\n",
       "      <td>3.548682</td>\n",
       "    </tr>\n",
       "  </tbody>\n",
       "</table>\n",
       "</div>"
      ],
      "text/plain": [
       "    Id show_id   type                 title      director  \\\n",
       "0  as1      s1  movie   the grand seduction  don mckellar   \n",
       "1  as2      s2  movie  take care good night  girish joshi   \n",
       "\n",
       "                                               cast  release_year rating  \\\n",
       "0    brendan gleeson, taylor kitsch, gordon pinsent          2014      g   \n",
       "1  mahesh manjrekar, abhay mahajan, sachin khedekar          2018    13+   \n",
       "\n",
       "            movies_type                                        description  \\\n",
       "0         comedy, drama  a small fishing village must procure a local d...   \n",
       "1  drama, international  a metro family decides to fight a cyber crimin...   \n",
       "\n",
       "  platform  duration_int duration_type     score  \n",
       "0   amazon         113.0           min  3.467131  \n",
       "1   amazon         110.0           min  3.548682  "
      ]
     },
     "execution_count": 31,
     "metadata": {},
     "output_type": "execute_result"
    }
   ],
   "source": [
    "# verifico\n",
    "plataformas.head(2)"
   ]
  },
  {
   "cell_type": "markdown",
   "metadata": {},
   "source": [
    "Columna 3: director"
   ]
  },
  {
   "cell_type": "code",
   "execution_count": 32,
   "metadata": {},
   "outputs": [
    {
     "data": {
      "text/plain": [
       "mark knight              113\n",
       "cannis holder             61\n",
       "jay chapman               46\n",
       "moonbug entertainment     37\n",
       "arthur van merwijk        30\n",
       "                        ... \n",
       "charles wilkinson          1\n",
       "dominic brunt              1\n",
       "sean breathnach            1\n",
       "cindy jansen               1\n",
       "mozez singh                1\n",
       "Name: director, Length: 10094, dtype: int64"
      ]
     },
     "execution_count": 32,
     "metadata": {},
     "output_type": "execute_result"
    }
   ],
   "source": [
    "#visualizo los valores y los cuento \n",
    "\n",
    "plataformas.director.value_counts()"
   ]
  },
  {
   "cell_type": "code",
   "execution_count": 33,
   "metadata": {},
   "outputs": [],
   "source": [
    "# aunuqe presenta un gran numero de datos faltantes es una columna importante ya que brinda un dato importante \n",
    "# pero en nuestro modelo de recomendacion no lo usaremos \n",
    "\n",
    "plataformas.drop(columns='director', inplace=True)"
   ]
  },
  {
   "cell_type": "code",
   "execution_count": 34,
   "metadata": {},
   "outputs": [
    {
     "data": {
      "text/html": [
       "<div>\n",
       "<style scoped>\n",
       "    .dataframe tbody tr th:only-of-type {\n",
       "        vertical-align: middle;\n",
       "    }\n",
       "\n",
       "    .dataframe tbody tr th {\n",
       "        vertical-align: top;\n",
       "    }\n",
       "\n",
       "    .dataframe thead th {\n",
       "        text-align: right;\n",
       "    }\n",
       "</style>\n",
       "<table border=\"1\" class=\"dataframe\">\n",
       "  <thead>\n",
       "    <tr style=\"text-align: right;\">\n",
       "      <th></th>\n",
       "      <th>Id</th>\n",
       "      <th>show_id</th>\n",
       "      <th>type</th>\n",
       "      <th>title</th>\n",
       "      <th>cast</th>\n",
       "      <th>release_year</th>\n",
       "      <th>rating</th>\n",
       "      <th>movies_type</th>\n",
       "      <th>description</th>\n",
       "      <th>platform</th>\n",
       "      <th>duration_int</th>\n",
       "      <th>duration_type</th>\n",
       "      <th>score</th>\n",
       "    </tr>\n",
       "  </thead>\n",
       "  <tbody>\n",
       "    <tr>\n",
       "      <th>0</th>\n",
       "      <td>as1</td>\n",
       "      <td>s1</td>\n",
       "      <td>movie</td>\n",
       "      <td>the grand seduction</td>\n",
       "      <td>brendan gleeson, taylor kitsch, gordon pinsent</td>\n",
       "      <td>2014</td>\n",
       "      <td>g</td>\n",
       "      <td>comedy, drama</td>\n",
       "      <td>a small fishing village must procure a local d...</td>\n",
       "      <td>amazon</td>\n",
       "      <td>113.0</td>\n",
       "      <td>min</td>\n",
       "      <td>3.467131</td>\n",
       "    </tr>\n",
       "  </tbody>\n",
       "</table>\n",
       "</div>"
      ],
      "text/plain": [
       "    Id show_id   type                title  \\\n",
       "0  as1      s1  movie  the grand seduction   \n",
       "\n",
       "                                             cast  release_year rating  \\\n",
       "0  brendan gleeson, taylor kitsch, gordon pinsent          2014      g   \n",
       "\n",
       "     movies_type                                        description platform  \\\n",
       "0  comedy, drama  a small fishing village must procure a local d...   amazon   \n",
       "\n",
       "   duration_int duration_type     score  \n",
       "0         113.0           min  3.467131  "
      ]
     },
     "execution_count": 34,
     "metadata": {},
     "output_type": "execute_result"
    }
   ],
   "source": [
    "#visualizo\n",
    "plataformas.head(1)"
   ]
  },
  {
   "cell_type": "markdown",
   "metadata": {},
   "source": [
    "Columna 4: cast"
   ]
  },
  {
   "cell_type": "code",
   "execution_count": 35,
   "metadata": {},
   "outputs": [
    {
     "data": {
      "text/plain": [
       "maggie binkley                                                                                                                           56\n",
       "1                                                                                                                                        34\n",
       "anne-marie newland                                                                                                                       24\n",
       "david attenborough                                                                                                                       22\n",
       "cassandra peterson                                                                                                                       21\n",
       "                                                                                                                                         ..\n",
       "charl washington, coke horner, trina chatfield, jessie a., deborah chenault green                                                         1\n",
       "dana ciobanu, mircea marco, iurie radu, ana tkacenko, anatol durbalã                                                                      1\n",
       "sri balaji, sony charishta, chitti babu, rishika, nellai siva                                                                             1\n",
       "brian geraghty, nora-jane noone, iddo goldberg                                                                                            1\n",
       "vicky kaushal, sarah-jane dias, raaghav chanana, manish chaudhary, meghna malik, malkeet rauni, anita shabdish, chittaranjan tripathy     1\n",
       "Name: cast, Length: 16743, dtype: int64"
      ]
     },
     "execution_count": 35,
     "metadata": {},
     "output_type": "execute_result"
    }
   ],
   "source": [
    "#visualizo los valores y los cuento \n",
    "\n",
    "plataformas.cast.value_counts()"
   ]
  },
  {
   "cell_type": "code",
   "execution_count": 36,
   "metadata": {},
   "outputs": [],
   "source": [
    "# aunuqe presenta un gran numero de datos faltantes es una columna importante ya que brinda un dato importante  \n",
    "# en nuestro modelo de recomendacion no la usaremos por tanto la eliminare\n",
    "\n",
    "plataformas.drop(columns='cast', inplace=True)"
   ]
  },
  {
   "cell_type": "code",
   "execution_count": 37,
   "metadata": {},
   "outputs": [
    {
     "data": {
      "text/html": [
       "<div>\n",
       "<style scoped>\n",
       "    .dataframe tbody tr th:only-of-type {\n",
       "        vertical-align: middle;\n",
       "    }\n",
       "\n",
       "    .dataframe tbody tr th {\n",
       "        vertical-align: top;\n",
       "    }\n",
       "\n",
       "    .dataframe thead th {\n",
       "        text-align: right;\n",
       "    }\n",
       "</style>\n",
       "<table border=\"1\" class=\"dataframe\">\n",
       "  <thead>\n",
       "    <tr style=\"text-align: right;\">\n",
       "      <th></th>\n",
       "      <th>Id</th>\n",
       "      <th>show_id</th>\n",
       "      <th>type</th>\n",
       "      <th>title</th>\n",
       "      <th>release_year</th>\n",
       "      <th>rating</th>\n",
       "      <th>movies_type</th>\n",
       "      <th>description</th>\n",
       "      <th>platform</th>\n",
       "      <th>duration_int</th>\n",
       "      <th>duration_type</th>\n",
       "      <th>score</th>\n",
       "    </tr>\n",
       "  </thead>\n",
       "  <tbody>\n",
       "    <tr>\n",
       "      <th>0</th>\n",
       "      <td>as1</td>\n",
       "      <td>s1</td>\n",
       "      <td>movie</td>\n",
       "      <td>the grand seduction</td>\n",
       "      <td>2014</td>\n",
       "      <td>g</td>\n",
       "      <td>comedy, drama</td>\n",
       "      <td>a small fishing village must procure a local d...</td>\n",
       "      <td>amazon</td>\n",
       "      <td>113.0</td>\n",
       "      <td>min</td>\n",
       "      <td>3.467131</td>\n",
       "    </tr>\n",
       "  </tbody>\n",
       "</table>\n",
       "</div>"
      ],
      "text/plain": [
       "    Id show_id   type                title  release_year rating  \\\n",
       "0  as1      s1  movie  the grand seduction          2014      g   \n",
       "\n",
       "     movies_type                                        description platform  \\\n",
       "0  comedy, drama  a small fishing village must procure a local d...   amazon   \n",
       "\n",
       "   duration_int duration_type     score  \n",
       "0         113.0           min  3.467131  "
      ]
     },
     "execution_count": 37,
     "metadata": {},
     "output_type": "execute_result"
    }
   ],
   "source": [
    "plataformas.head(1)"
   ]
  },
  {
   "cell_type": "markdown",
   "metadata": {},
   "source": [
    "Columna 5: duration_int"
   ]
  },
  {
   "cell_type": "code",
   "execution_count": 38,
   "metadata": {},
   "outputs": [
    {
     "data": {
      "text/plain": [
       "1.0      4194\n",
       "2.0      1016\n",
       "3.0       487\n",
       "90.0      429\n",
       "91.0      419\n",
       "         ... \n",
       "479.0       1\n",
       "601.0       1\n",
       "485.0       1\n",
       "550.0       1\n",
       "201.0       1\n",
       "Name: duration_int, Length: 225, dtype: int64"
      ]
     },
     "execution_count": 38,
     "metadata": {},
     "output_type": "execute_result"
    }
   ],
   "source": [
    "#visualizo los valores y los cuento \n",
    "\n",
    "plataformas.duration_int.value_counts()"
   ]
  },
  {
   "cell_type": "code",
   "execution_count": 39,
   "metadata": {},
   "outputs": [],
   "source": [
    "# elimino la columna ya que no brinda datos aportantes para la toma de desiciones en nuestro modelo de recomendacion \n",
    " \n",
    "plataformas.drop(columns='duration_int', inplace=True)"
   ]
  },
  {
   "cell_type": "code",
   "execution_count": 40,
   "metadata": {},
   "outputs": [
    {
     "data": {
      "text/html": [
       "<div>\n",
       "<style scoped>\n",
       "    .dataframe tbody tr th:only-of-type {\n",
       "        vertical-align: middle;\n",
       "    }\n",
       "\n",
       "    .dataframe tbody tr th {\n",
       "        vertical-align: top;\n",
       "    }\n",
       "\n",
       "    .dataframe thead th {\n",
       "        text-align: right;\n",
       "    }\n",
       "</style>\n",
       "<table border=\"1\" class=\"dataframe\">\n",
       "  <thead>\n",
       "    <tr style=\"text-align: right;\">\n",
       "      <th></th>\n",
       "      <th>Id</th>\n",
       "      <th>show_id</th>\n",
       "      <th>type</th>\n",
       "      <th>title</th>\n",
       "      <th>release_year</th>\n",
       "      <th>rating</th>\n",
       "      <th>movies_type</th>\n",
       "      <th>description</th>\n",
       "      <th>platform</th>\n",
       "      <th>duration_type</th>\n",
       "      <th>score</th>\n",
       "    </tr>\n",
       "  </thead>\n",
       "  <tbody>\n",
       "    <tr>\n",
       "      <th>0</th>\n",
       "      <td>as1</td>\n",
       "      <td>s1</td>\n",
       "      <td>movie</td>\n",
       "      <td>the grand seduction</td>\n",
       "      <td>2014</td>\n",
       "      <td>g</td>\n",
       "      <td>comedy, drama</td>\n",
       "      <td>a small fishing village must procure a local d...</td>\n",
       "      <td>amazon</td>\n",
       "      <td>min</td>\n",
       "      <td>3.467131</td>\n",
       "    </tr>\n",
       "    <tr>\n",
       "      <th>1</th>\n",
       "      <td>as2</td>\n",
       "      <td>s2</td>\n",
       "      <td>movie</td>\n",
       "      <td>take care good night</td>\n",
       "      <td>2018</td>\n",
       "      <td>13+</td>\n",
       "      <td>drama, international</td>\n",
       "      <td>a metro family decides to fight a cyber crimin...</td>\n",
       "      <td>amazon</td>\n",
       "      <td>min</td>\n",
       "      <td>3.548682</td>\n",
       "    </tr>\n",
       "  </tbody>\n",
       "</table>\n",
       "</div>"
      ],
      "text/plain": [
       "    Id show_id   type                 title  release_year rating  \\\n",
       "0  as1      s1  movie   the grand seduction          2014      g   \n",
       "1  as2      s2  movie  take care good night          2018    13+   \n",
       "\n",
       "            movies_type                                        description  \\\n",
       "0         comedy, drama  a small fishing village must procure a local d...   \n",
       "1  drama, international  a metro family decides to fight a cyber crimin...   \n",
       "\n",
       "  platform duration_type     score  \n",
       "0   amazon           min  3.467131  \n",
       "1   amazon           min  3.548682  "
      ]
     },
     "execution_count": 40,
     "metadata": {},
     "output_type": "execute_result"
    }
   ],
   "source": [
    "#visualizo\n",
    "plataformas.head(2)"
   ]
  },
  {
   "cell_type": "markdown",
   "metadata": {},
   "source": [
    "columna 6: duration_type"
   ]
  },
  {
   "cell_type": "code",
   "execution_count": 41,
   "metadata": {},
   "outputs": [
    {
     "data": {
      "text/plain": [
       "min       15999\n",
       "season     6517\n",
       "Name: duration_type, dtype: int64"
      ]
     },
     "execution_count": 41,
     "metadata": {},
     "output_type": "execute_result"
    }
   ],
   "source": [
    "#visualizo los valores y los cuento \n",
    "\n",
    "plataformas.duration_type.value_counts()"
   ]
  },
  {
   "cell_type": "code",
   "execution_count": 42,
   "metadata": {},
   "outputs": [],
   "source": [
    "# elimino la columna ya que no brinda datos aportantes para la toma de desiciones \n",
    " \n",
    "plataformas.drop(columns='duration_type', inplace=True)"
   ]
  },
  {
   "cell_type": "code",
   "execution_count": 43,
   "metadata": {},
   "outputs": [
    {
     "data": {
      "text/html": [
       "<div>\n",
       "<style scoped>\n",
       "    .dataframe tbody tr th:only-of-type {\n",
       "        vertical-align: middle;\n",
       "    }\n",
       "\n",
       "    .dataframe tbody tr th {\n",
       "        vertical-align: top;\n",
       "    }\n",
       "\n",
       "    .dataframe thead th {\n",
       "        text-align: right;\n",
       "    }\n",
       "</style>\n",
       "<table border=\"1\" class=\"dataframe\">\n",
       "  <thead>\n",
       "    <tr style=\"text-align: right;\">\n",
       "      <th></th>\n",
       "      <th>Id</th>\n",
       "      <th>show_id</th>\n",
       "      <th>type</th>\n",
       "      <th>title</th>\n",
       "      <th>release_year</th>\n",
       "      <th>rating</th>\n",
       "      <th>movies_type</th>\n",
       "      <th>description</th>\n",
       "      <th>platform</th>\n",
       "      <th>score</th>\n",
       "    </tr>\n",
       "  </thead>\n",
       "  <tbody>\n",
       "    <tr>\n",
       "      <th>0</th>\n",
       "      <td>as1</td>\n",
       "      <td>s1</td>\n",
       "      <td>movie</td>\n",
       "      <td>the grand seduction</td>\n",
       "      <td>2014</td>\n",
       "      <td>g</td>\n",
       "      <td>comedy, drama</td>\n",
       "      <td>a small fishing village must procure a local d...</td>\n",
       "      <td>amazon</td>\n",
       "      <td>3.467131</td>\n",
       "    </tr>\n",
       "    <tr>\n",
       "      <th>1</th>\n",
       "      <td>as2</td>\n",
       "      <td>s2</td>\n",
       "      <td>movie</td>\n",
       "      <td>take care good night</td>\n",
       "      <td>2018</td>\n",
       "      <td>13+</td>\n",
       "      <td>drama, international</td>\n",
       "      <td>a metro family decides to fight a cyber crimin...</td>\n",
       "      <td>amazon</td>\n",
       "      <td>3.548682</td>\n",
       "    </tr>\n",
       "  </tbody>\n",
       "</table>\n",
       "</div>"
      ],
      "text/plain": [
       "    Id show_id   type                 title  release_year rating  \\\n",
       "0  as1      s1  movie   the grand seduction          2014      g   \n",
       "1  as2      s2  movie  take care good night          2018    13+   \n",
       "\n",
       "            movies_type                                        description  \\\n",
       "0         comedy, drama  a small fishing village must procure a local d...   \n",
       "1  drama, international  a metro family decides to fight a cyber crimin...   \n",
       "\n",
       "  platform     score  \n",
       "0   amazon  3.467131  \n",
       "1   amazon  3.548682  "
      ]
     },
     "execution_count": 43,
     "metadata": {},
     "output_type": "execute_result"
    }
   ],
   "source": [
    "#visualizo\n",
    "plataformas.head(2)"
   ]
  },
  {
   "cell_type": "markdown",
   "metadata": {},
   "source": [
    "columna 7: release_year"
   ]
  },
  {
   "cell_type": "code",
   "execution_count": 44,
   "metadata": {},
   "outputs": [
    {
     "data": {
      "text/plain": [
       "2019    2470\n",
       "2020    2406\n",
       "2021    2385\n",
       "2018    2105\n",
       "2017    1892\n",
       "        ... \n",
       "1923       2\n",
       "1922       2\n",
       "1924       1\n",
       "1927       1\n",
       "1928       1\n",
       "Name: release_year, Length: 101, dtype: int64"
      ]
     },
     "execution_count": 44,
     "metadata": {},
     "output_type": "execute_result"
    }
   ],
   "source": [
    "#visualizo los valores y los cuento \n",
    "\n",
    "plataformas.release_year.value_counts()"
   ]
  },
  {
   "cell_type": "code",
   "execution_count": 45,
   "metadata": {},
   "outputs": [],
   "source": [
    "# elimino la columna ya que no brinda datos aportantes para la toma de desiciones \n",
    " \n",
    "plataformas.drop(columns='release_year', inplace=True)"
   ]
  },
  {
   "cell_type": "code",
   "execution_count": 46,
   "metadata": {},
   "outputs": [
    {
     "data": {
      "text/html": [
       "<div>\n",
       "<style scoped>\n",
       "    .dataframe tbody tr th:only-of-type {\n",
       "        vertical-align: middle;\n",
       "    }\n",
       "\n",
       "    .dataframe tbody tr th {\n",
       "        vertical-align: top;\n",
       "    }\n",
       "\n",
       "    .dataframe thead th {\n",
       "        text-align: right;\n",
       "    }\n",
       "</style>\n",
       "<table border=\"1\" class=\"dataframe\">\n",
       "  <thead>\n",
       "    <tr style=\"text-align: right;\">\n",
       "      <th></th>\n",
       "      <th>Id</th>\n",
       "      <th>show_id</th>\n",
       "      <th>type</th>\n",
       "      <th>title</th>\n",
       "      <th>rating</th>\n",
       "      <th>movies_type</th>\n",
       "      <th>description</th>\n",
       "      <th>platform</th>\n",
       "      <th>score</th>\n",
       "    </tr>\n",
       "  </thead>\n",
       "  <tbody>\n",
       "    <tr>\n",
       "      <th>0</th>\n",
       "      <td>as1</td>\n",
       "      <td>s1</td>\n",
       "      <td>movie</td>\n",
       "      <td>the grand seduction</td>\n",
       "      <td>g</td>\n",
       "      <td>comedy, drama</td>\n",
       "      <td>a small fishing village must procure a local d...</td>\n",
       "      <td>amazon</td>\n",
       "      <td>3.467131</td>\n",
       "    </tr>\n",
       "    <tr>\n",
       "      <th>1</th>\n",
       "      <td>as2</td>\n",
       "      <td>s2</td>\n",
       "      <td>movie</td>\n",
       "      <td>take care good night</td>\n",
       "      <td>13+</td>\n",
       "      <td>drama, international</td>\n",
       "      <td>a metro family decides to fight a cyber crimin...</td>\n",
       "      <td>amazon</td>\n",
       "      <td>3.548682</td>\n",
       "    </tr>\n",
       "  </tbody>\n",
       "</table>\n",
       "</div>"
      ],
      "text/plain": [
       "    Id show_id   type                 title rating           movies_type  \\\n",
       "0  as1      s1  movie   the grand seduction      g         comedy, drama   \n",
       "1  as2      s2  movie  take care good night    13+  drama, international   \n",
       "\n",
       "                                         description platform     score  \n",
       "0  a small fishing village must procure a local d...   amazon  3.467131  \n",
       "1  a metro family decides to fight a cyber crimin...   amazon  3.548682  "
      ]
     },
     "execution_count": 46,
     "metadata": {},
     "output_type": "execute_result"
    }
   ],
   "source": [
    "# verifico\n",
    "\n",
    "plataformas.head(2)"
   ]
  },
  {
   "cell_type": "markdown",
   "metadata": {},
   "source": [
    "columna 8: show_id"
   ]
  },
  {
   "cell_type": "code",
   "execution_count": 47,
   "metadata": {},
   "outputs": [
    {
     "data": {
      "text/plain": [
       "s1       4\n",
       "s975     4\n",
       "s973     4\n",
       "s972     4\n",
       "s971     4\n",
       "        ..\n",
       "s9097    1\n",
       "s9098    1\n",
       "s9099    1\n",
       "s9100    1\n",
       "s9668    1\n",
       "Name: show_id, Length: 9668, dtype: int64"
      ]
     },
     "execution_count": 47,
     "metadata": {},
     "output_type": "execute_result"
    }
   ],
   "source": [
    "#visualizo los valores y los cuento \n",
    "\n",
    "plataformas.show_id.value_counts()"
   ]
  },
  {
   "cell_type": "code",
   "execution_count": 48,
   "metadata": {},
   "outputs": [],
   "source": [
    "# elimino la columna ya que no brinda datos aportantes para la toma de desiciones \n",
    " \n",
    "plataformas.drop(columns='show_id', inplace=True)"
   ]
  },
  {
   "cell_type": "code",
   "execution_count": 49,
   "metadata": {},
   "outputs": [
    {
     "data": {
      "text/html": [
       "<div>\n",
       "<style scoped>\n",
       "    .dataframe tbody tr th:only-of-type {\n",
       "        vertical-align: middle;\n",
       "    }\n",
       "\n",
       "    .dataframe tbody tr th {\n",
       "        vertical-align: top;\n",
       "    }\n",
       "\n",
       "    .dataframe thead th {\n",
       "        text-align: right;\n",
       "    }\n",
       "</style>\n",
       "<table border=\"1\" class=\"dataframe\">\n",
       "  <thead>\n",
       "    <tr style=\"text-align: right;\">\n",
       "      <th></th>\n",
       "      <th>Id</th>\n",
       "      <th>type</th>\n",
       "      <th>title</th>\n",
       "      <th>rating</th>\n",
       "      <th>movies_type</th>\n",
       "      <th>description</th>\n",
       "      <th>platform</th>\n",
       "      <th>score</th>\n",
       "    </tr>\n",
       "  </thead>\n",
       "  <tbody>\n",
       "    <tr>\n",
       "      <th>0</th>\n",
       "      <td>as1</td>\n",
       "      <td>movie</td>\n",
       "      <td>the grand seduction</td>\n",
       "      <td>g</td>\n",
       "      <td>comedy, drama</td>\n",
       "      <td>a small fishing village must procure a local d...</td>\n",
       "      <td>amazon</td>\n",
       "      <td>3.467131</td>\n",
       "    </tr>\n",
       "    <tr>\n",
       "      <th>1</th>\n",
       "      <td>as2</td>\n",
       "      <td>movie</td>\n",
       "      <td>take care good night</td>\n",
       "      <td>13+</td>\n",
       "      <td>drama, international</td>\n",
       "      <td>a metro family decides to fight a cyber crimin...</td>\n",
       "      <td>amazon</td>\n",
       "      <td>3.548682</td>\n",
       "    </tr>\n",
       "  </tbody>\n",
       "</table>\n",
       "</div>"
      ],
      "text/plain": [
       "    Id   type                 title rating           movies_type  \\\n",
       "0  as1  movie   the grand seduction      g         comedy, drama   \n",
       "1  as2  movie  take care good night    13+  drama, international   \n",
       "\n",
       "                                         description platform     score  \n",
       "0  a small fishing village must procure a local d...   amazon  3.467131  \n",
       "1  a metro family decides to fight a cyber crimin...   amazon  3.548682  "
      ]
     },
     "execution_count": 49,
     "metadata": {},
     "output_type": "execute_result"
    }
   ],
   "source": [
    "# verifico\n",
    "\n",
    "plataformas.head(2)"
   ]
  },
  {
   "cell_type": "markdown",
   "metadata": {},
   "source": [
    "Column 10: platform"
   ]
  },
  {
   "cell_type": "code",
   "execution_count": 50,
   "metadata": {},
   "outputs": [
    {
     "data": {
      "text/plain": [
       "amazon     9668\n",
       "netflix    8807\n",
       "hulu       3073\n",
       "disney     1450\n",
       "Name: platform, dtype: int64"
      ]
     },
     "execution_count": 50,
     "metadata": {},
     "output_type": "execute_result"
    }
   ],
   "source": [
    "#visualizo los valores y los cuento \n",
    "\n",
    "plataformas.platform.value_counts()"
   ]
  },
  {
   "cell_type": "code",
   "execution_count": 51,
   "metadata": {},
   "outputs": [],
   "source": [
    "# elimino la columna ya que no brinda datos aportantes para la toma de desiciones \n",
    " \n",
    "plataformas.drop(columns='platform', inplace=True)"
   ]
  },
  {
   "cell_type": "code",
   "execution_count": 52,
   "metadata": {},
   "outputs": [
    {
     "data": {
      "text/html": [
       "<div>\n",
       "<style scoped>\n",
       "    .dataframe tbody tr th:only-of-type {\n",
       "        vertical-align: middle;\n",
       "    }\n",
       "\n",
       "    .dataframe tbody tr th {\n",
       "        vertical-align: top;\n",
       "    }\n",
       "\n",
       "    .dataframe thead th {\n",
       "        text-align: right;\n",
       "    }\n",
       "</style>\n",
       "<table border=\"1\" class=\"dataframe\">\n",
       "  <thead>\n",
       "    <tr style=\"text-align: right;\">\n",
       "      <th></th>\n",
       "      <th>Id</th>\n",
       "      <th>type</th>\n",
       "      <th>title</th>\n",
       "      <th>rating</th>\n",
       "      <th>movies_type</th>\n",
       "      <th>description</th>\n",
       "      <th>score</th>\n",
       "    </tr>\n",
       "  </thead>\n",
       "  <tbody>\n",
       "    <tr>\n",
       "      <th>0</th>\n",
       "      <td>as1</td>\n",
       "      <td>movie</td>\n",
       "      <td>the grand seduction</td>\n",
       "      <td>g</td>\n",
       "      <td>comedy, drama</td>\n",
       "      <td>a small fishing village must procure a local d...</td>\n",
       "      <td>3.467131</td>\n",
       "    </tr>\n",
       "    <tr>\n",
       "      <th>1</th>\n",
       "      <td>as2</td>\n",
       "      <td>movie</td>\n",
       "      <td>take care good night</td>\n",
       "      <td>13+</td>\n",
       "      <td>drama, international</td>\n",
       "      <td>a metro family decides to fight a cyber crimin...</td>\n",
       "      <td>3.548682</td>\n",
       "    </tr>\n",
       "  </tbody>\n",
       "</table>\n",
       "</div>"
      ],
      "text/plain": [
       "    Id   type                 title rating           movies_type  \\\n",
       "0  as1  movie   the grand seduction      g         comedy, drama   \n",
       "1  as2  movie  take care good night    13+  drama, international   \n",
       "\n",
       "                                         description     score  \n",
       "0  a small fishing village must procure a local d...  3.467131  \n",
       "1  a metro family decides to fight a cyber crimin...  3.548682  "
      ]
     },
     "execution_count": 52,
     "metadata": {},
     "output_type": "execute_result"
    }
   ],
   "source": [
    "# verifico\n",
    "\n",
    "plataformas.head(2)"
   ]
  },
  {
   "cell_type": "markdown",
   "metadata": {},
   "source": [
    "Column 11: type"
   ]
  },
  {
   "cell_type": "code",
   "execution_count": 53,
   "metadata": {},
   "outputs": [
    {
     "data": {
      "text/plain": [
       "movie      16481\n",
       "tv show     6517\n",
       "Name: type, dtype: int64"
      ]
     },
     "execution_count": 53,
     "metadata": {},
     "output_type": "execute_result"
    }
   ],
   "source": [
    "#visualizo los valores y los cuento \n",
    "\n",
    "plataformas.type.value_counts()"
   ]
  },
  {
   "cell_type": "code",
   "execution_count": 54,
   "metadata": {},
   "outputs": [],
   "source": [
    "# elimino la columna ya que no brinda datos aportantes para la toma de desiciones \n",
    " \n",
    "plataformas.drop(columns='type', inplace=True)"
   ]
  },
  {
   "cell_type": "code",
   "execution_count": 55,
   "metadata": {},
   "outputs": [
    {
     "data": {
      "text/html": [
       "<div>\n",
       "<style scoped>\n",
       "    .dataframe tbody tr th:only-of-type {\n",
       "        vertical-align: middle;\n",
       "    }\n",
       "\n",
       "    .dataframe tbody tr th {\n",
       "        vertical-align: top;\n",
       "    }\n",
       "\n",
       "    .dataframe thead th {\n",
       "        text-align: right;\n",
       "    }\n",
       "</style>\n",
       "<table border=\"1\" class=\"dataframe\">\n",
       "  <thead>\n",
       "    <tr style=\"text-align: right;\">\n",
       "      <th></th>\n",
       "      <th>Id</th>\n",
       "      <th>title</th>\n",
       "      <th>rating</th>\n",
       "      <th>movies_type</th>\n",
       "      <th>description</th>\n",
       "      <th>score</th>\n",
       "    </tr>\n",
       "  </thead>\n",
       "  <tbody>\n",
       "    <tr>\n",
       "      <th>0</th>\n",
       "      <td>as1</td>\n",
       "      <td>the grand seduction</td>\n",
       "      <td>g</td>\n",
       "      <td>comedy, drama</td>\n",
       "      <td>a small fishing village must procure a local d...</td>\n",
       "      <td>3.467131</td>\n",
       "    </tr>\n",
       "    <tr>\n",
       "      <th>1</th>\n",
       "      <td>as2</td>\n",
       "      <td>take care good night</td>\n",
       "      <td>13+</td>\n",
       "      <td>drama, international</td>\n",
       "      <td>a metro family decides to fight a cyber crimin...</td>\n",
       "      <td>3.548682</td>\n",
       "    </tr>\n",
       "  </tbody>\n",
       "</table>\n",
       "</div>"
      ],
      "text/plain": [
       "    Id                 title rating           movies_type  \\\n",
       "0  as1   the grand seduction      g         comedy, drama   \n",
       "1  as2  take care good night    13+  drama, international   \n",
       "\n",
       "                                         description     score  \n",
       "0  a small fishing village must procure a local d...  3.467131  \n",
       "1  a metro family decides to fight a cyber crimin...  3.548682  "
      ]
     },
     "execution_count": 55,
     "metadata": {},
     "output_type": "execute_result"
    }
   ],
   "source": [
    "# verifico\n",
    "\n",
    "plataformas.head(2)"
   ]
  },
  {
   "cell_type": "markdown",
   "metadata": {},
   "source": [
    "Columna 12: description"
   ]
  },
  {
   "cell_type": "code",
   "execution_count": 56,
   "metadata": {},
   "outputs": [
    {
     "data": {
      "text/plain": [
       "arpo was designed as a commando robot, built as a fierce fighting machine. but, with world peace achieved arpo has been re-equipped for caregiving, re-coded for cuddling, and officially reassigned as a nanny robot! arpo helps children age 4-8 build an understanding of non-verbal communication like body language and facial expressions. enjoy arpo's hilarious, slapstick funny cartoons for kids!    15\n",
       "1                                                                                                                                                                                                                                                                                                                                                                                                              15\n",
       "a new collection of colorful and wonderfully engaging nursery rhymes and children's songs that will thrill your child while educating them in their numbers, abcs and general learning! from the creators of littlebabybum, kiiyii allows the child's imagination to go further!                                                                                                                               12\n",
       "t-rex ranch brings you another awesome fun-packed collection of jurassic dinosaur videos ! watch your favorite park rangers get into all sorts of wonderful adventures, coming across lots of scary dinosaurs, awesome toys and much more!                                                                                                                                                                     10\n",
       "morphle can morph into anything his human companion mila wants. from dinosaurs to cars, and animals like cats, dogs and lions! your kids will love this fun, and educational videos for kids! they will learn colors, shapes, numbers, the alphabet, and more! sing along to some of the classic nursery rhymes, original songs or watch these educational cartoons that your kids will surely enjoy!           9\n",
       "                                                                                                                                                                                                                                                                                                                                                                                                               ..\n",
       "donnie yen fights a deadly assassin named tiger yu and teaming a band of insurrectionists battling a malevolent gang of weapons smugglers.                                                                                                                                                                                                                                                                      1\n",
       "to help sathya and paari, gajendran offers them money in return for helping him unite with his lover, keerthy. however, sathya ends up kidnapping keerthy and angers a notorious human trafficker.                                                                                                                                                                                                              1\n",
       "an indian soldier along with the daughter of the enemy nation's high-ranked officer must thwart the plan of a nuclear attack against india.                                                                                                                                                                                                                                                                     1\n",
       "two thieves from theni arrive in kodaikanal, where they are mistaken for huntsmen. they see an opportunity to use the misunderstanding to their advantage and hide from the law.                                                                                                                                                                                                                                1\n",
       "a scrappy but poor boy worms his way into a tycoon's dysfunctional family, while facing his fear of music and the truth about his past.                                                                                                                                                                                                                                                                         1\n",
       "Name: description, Length: 22669, dtype: int64"
      ]
     },
     "execution_count": 56,
     "metadata": {},
     "output_type": "execute_result"
    }
   ],
   "source": [
    "#visualizo los valores y los cuento \n",
    "\n",
    "plataformas.description.value_counts()"
   ]
  },
  {
   "cell_type": "code",
   "execution_count": 57,
   "metadata": {},
   "outputs": [],
   "source": [
    "# elimino la columna ya que no brinda datos aportantes para la toma de desiciones \n",
    " \n",
    "plataformas.drop(columns='description', inplace=True)"
   ]
  },
  {
   "cell_type": "code",
   "execution_count": 58,
   "metadata": {},
   "outputs": [
    {
     "data": {
      "text/plain": [
       "Id             0\n",
       "title          0\n",
       "rating         0\n",
       "movies_type    0\n",
       "score          0\n",
       "dtype: int64"
      ]
     },
     "execution_count": 58,
     "metadata": {},
     "output_type": "execute_result"
    }
   ],
   "source": [
    "# verificamos \n",
    "\n",
    "plataformas.isnull().sum().sort_values(ascending=False)"
   ]
  },
  {
   "cell_type": "code",
   "execution_count": 59,
   "metadata": {},
   "outputs": [
    {
     "data": {
      "text/html": [
       "<div>\n",
       "<style scoped>\n",
       "    .dataframe tbody tr th:only-of-type {\n",
       "        vertical-align: middle;\n",
       "    }\n",
       "\n",
       "    .dataframe tbody tr th {\n",
       "        vertical-align: top;\n",
       "    }\n",
       "\n",
       "    .dataframe thead th {\n",
       "        text-align: right;\n",
       "    }\n",
       "</style>\n",
       "<table border=\"1\" class=\"dataframe\">\n",
       "  <thead>\n",
       "    <tr style=\"text-align: right;\">\n",
       "      <th></th>\n",
       "      <th>Id</th>\n",
       "      <th>title</th>\n",
       "      <th>rating</th>\n",
       "      <th>movies_type</th>\n",
       "      <th>score</th>\n",
       "    </tr>\n",
       "  </thead>\n",
       "  <tbody>\n",
       "    <tr>\n",
       "      <th>0</th>\n",
       "      <td>as1</td>\n",
       "      <td>the grand seduction</td>\n",
       "      <td>g</td>\n",
       "      <td>comedy, drama</td>\n",
       "      <td>3.467131</td>\n",
       "    </tr>\n",
       "    <tr>\n",
       "      <th>1</th>\n",
       "      <td>as2</td>\n",
       "      <td>take care good night</td>\n",
       "      <td>13+</td>\n",
       "      <td>drama, international</td>\n",
       "      <td>3.548682</td>\n",
       "    </tr>\n",
       "  </tbody>\n",
       "</table>\n",
       "</div>"
      ],
      "text/plain": [
       "    Id                 title rating           movies_type     score\n",
       "0  as1   the grand seduction      g         comedy, drama  3.467131\n",
       "1  as2  take care good night    13+  drama, international  3.548682"
      ]
     },
     "execution_count": 59,
     "metadata": {},
     "output_type": "execute_result"
    }
   ],
   "source": [
    "plataformas.head(2)\n"
   ]
  },
  {
   "cell_type": "markdown",
   "metadata": {},
   "source": [
    "Columna 13 Score"
   ]
  },
  {
   "cell_type": "code",
   "execution_count": 60,
   "metadata": {},
   "outputs": [
    {
     "data": {
      "text/plain": [
       "3.500000    171\n",
       "3.571429     24\n",
       "3.562500     22\n",
       "3.555556     21\n",
       "3.583333     19\n",
       "           ... \n",
       "3.468421      1\n",
       "3.452519      1\n",
       "3.466270      1\n",
       "3.498853      1\n",
       "3.515947      1\n",
       "Name: score, Length: 11383, dtype: int64"
      ]
     },
     "execution_count": 60,
     "metadata": {},
     "output_type": "execute_result"
    }
   ],
   "source": [
    "#visualizo los valores y los cuento \n",
    "\n",
    "plataformas.score.value_counts()"
   ]
  },
  {
   "cell_type": "code",
   "execution_count": 61,
   "metadata": {},
   "outputs": [
    {
     "name": "stdout",
     "output_type": "stream",
     "text": [
      "Valor promedio = 3.5334429843061685\n",
      "Valor maximo = 3.7245119305856833\n",
      "Valor minimo = 3.336477987421384\n"
     ]
    }
   ],
   "source": [
    "# Evaluo valores: max, min y promedio de 'score'\n",
    "print('Valor promedio =',plataformas.score.mean())\n",
    "print('Valor maximo =',plataformas.score.max())\n",
    "print('Valor minimo =',plataformas.score.min())"
   ]
  },
  {
   "cell_type": "code",
   "execution_count": 62,
   "metadata": {},
   "outputs": [
    {
     "name": "stdout",
     "output_type": "stream",
     "text": [
      "22998  usuarios\n",
      "11383  scores\n"
     ]
    }
   ],
   "source": [
    "# Usuarios y scores únicos:\n",
    "n_users = plataformas.Id.unique().shape[0]\n",
    "n_scores = plataformas.score.unique().shape[0]\n",
    "print (str(n_users) + '  usuarios')\n",
    "print (str(n_scores) + '  scores')"
   ]
  },
  {
   "cell_type": "code",
   "execution_count": 63,
   "metadata": {},
   "outputs": [
    {
     "data": {
      "image/png": "[encoded data removed]",
      "text/plain": [
       "<Figure size 640x480 with 1 Axes>"
      ]
     },
     "metadata": {},
     "output_type": "display_data"
    }
   ],
   "source": [
    "# Observo la distribución de las calificaciones\n",
    "plataformas['score'].hist()\n",
    "plt.title('Distribución de calificaciones')\n",
    "plt.show()"
   ]
  },
  {
   "cell_type": "markdown",
   "metadata": {},
   "source": [
    "Conclusiones "
   ]
  },
  {
   "cell_type": "markdown",
   "metadata": {},
   "source": [
    "- el primer filtro que hacemos para determinar si una columna nos brinda una informacion valiosa o si se puede utilizar en los datos es en la cantidad de ceros que esta tiene ya que si es mayor a un 50% estas columnas deberan ser eliminadas ya que no va brindar un informacion que sea muy aportante en la toma de desiciones.\n",
    "- es importente aclarar que cada columan debe ser analisada por separado ya que cada una puede tener un peso completamente diferente en la toma de decisiones. aun sin importar que esta tenga datos faltantes ya que dentro del criterio que se quiera evaluar va ser de gran importancia "
   ]
  },
  {
   "cell_type": "code",
   "execution_count": 64,
   "metadata": {},
   "outputs": [
    {
     "data": {
      "text/plain": [
       "Id             0\n",
       "title          0\n",
       "rating         0\n",
       "movies_type    0\n",
       "score          0\n",
       "dtype: int64"
      ]
     },
     "execution_count": 64,
     "metadata": {},
     "output_type": "execute_result"
    }
   ],
   "source": [
    "#Corroboro los valores nulos\n",
    "\n",
    "plataformas.isnull().sum().sort_values(ascending=False)"
   ]
  },
  {
   "cell_type": "code",
   "execution_count": 65,
   "metadata": {},
   "outputs": [],
   "source": [
    "#Vamos a guardar este último dataset con el cual se va a trabajar en el modelo DE ML\n",
    "\n",
    "plataformas.to_csv('plataformas.csv', index = False)"
   ]
  }
 ],
 "metadata": {
  "kernelspec": {
   "display_name": "Python 3",
   "language": "python",
   "name": "python3"
  },
  "language_info": {
   "codemirror_mode": {
    "name": "ipython",
    "version": 3
   },
   "file_extension": ".py",
   "mimetype": "text/x-python",
   "name": "python",
   "nbconvert_exporter": "python",
   "pygments_lexer": "ipython3",
   "version": "3.10.11"
  },
  "orig_nbformat": 4
 },
 "nbformat": 4,
 "nbformat_minor": 2
}
